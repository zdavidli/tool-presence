{
 "cells": [
  {
   "cell_type": "code",
   "execution_count": null,
   "metadata": {},
   "outputs": [],
   "source": [
    "%matplotlib inline\n",
    "%load_ext autoreload\n",
    "%autoreload 2"
   ]
  },
  {
   "cell_type": "code",
   "execution_count": null,
   "metadata": {},
   "outputs": [],
   "source": [
    "import matplotlib\n",
    "import matplotlib.pyplot as plt\n",
    "import numpy as np\n",
    "import pandas as pd\n",
    "import pystan\n",
    "import pickle\n",
    "import seaborn as sns\n",
    "\n",
    "import torch\n",
    "import os\n",
    "import sys\n",
    "\n",
    "module_path = os.path.abspath(os.path.join('/users/dli44/tool-presence'))\n",
    "if module_path not in sys.path:\n",
    "    sys.path.append(module_path)\n",
    "\n",
    "from src import constants as c\n",
    "from src import utils\n",
    "from src import visualization as v\n",
    "from src import model as m"
   ]
  },
  {
   "cell_type": "code",
   "execution_count": null,
   "metadata": {},
   "outputs": [],
   "source": [
    "np.random.seed(101)\n",
    "matplotlib.rc('text', usetex=True)\n",
    "matplotlib.rcParams['figure.dpi'] = 200"
   ]
  },
  {
   "cell_type": "code",
   "execution_count": null,
   "metadata": {},
   "outputs": [],
   "source": [
    "test_images =['0686',\n",
    "              '0687',\n",
    "              '0688',\n",
    "              '0689',\n",
    "              '0690',\n",
    "              '0690',\n",
    "              '0691',\n",
    "              '0693',\n",
    "              '0694',\n",
    "              '0695',\n",
    "              '0696',\n",
    "              '0697',\n",
    "              '0698',\n",
    "              '0699',\n",
    "              '0700',\n",
    "              '0703',\n",
    "              '0704']\n",
    "\n",
    "images = ['../data/youtube_data/train/images/frame_{}.png'.format(number) for number in test_images]"
   ]
  },
  {
   "cell_type": "code",
   "execution_count": null,
   "metadata": {},
   "outputs": [],
   "source": [
    "train_data_file = \"../mmd/csv/beta_10.0_zdim_80_train.csv\"\n",
    "train = pd.read_csv(train_data_file, index_col=0)    "
   ]
  },
  {
   "cell_type": "code",
   "execution_count": null,
   "metadata": {},
   "outputs": [],
   "source": [
    "from imageio import imread\n",
    "from PIL import Image\n",
    "from torchvision import transforms\n",
    "\n",
    "\n",
    "model_file = '../mmd/weights/final_beta_10.0_zdim_80_epoch_80.torch'\n",
    "model = m.VAE(image_channels=3,\n",
    "                  image_size=64,\n",
    "                  h_dim1=1024,\n",
    "                  h_dim2=128,\n",
    "                  zdim=80).to(c.device)\n",
    "model.load_state_dict(torch.load(model_file, map_location='cpu'))\n",
    "\n",
    "tform = transforms.Compose([transforms.Resize(64), transforms.CenterCrop(64), transforms.ToTensor()])\n",
    "encodings = []\n",
    "\n",
    "for image in images:\n",
    "    im = tform(Image.fromarray(imread(image))).unsqueeze(0)\n",
    "    enc = utils.torch_to_numpy(model.sampling(*model.encode(im)))\n",
    "    encodings.append(enc.squeeze())\n",
    "    \n",
    "encodings = np.array(encodings)"
   ]
  },
  {
   "cell_type": "code",
   "execution_count": null,
   "metadata": {},
   "outputs": [],
   "source": [
    "print(encodings.shape)"
   ]
  },
  {
   "cell_type": "code",
   "execution_count": null,
   "metadata": {},
   "outputs": [],
   "source": [
    "labels_file = '../data/youtube_data/train/labels.csv'\n",
    "\n",
    "test = pd.DataFrame(encodings)\n",
    "labels = pd.read_csv(labels_file, skiprows=lambda x: x in range(1,548), header=0, index_col=0).reset_index(drop=True)\n",
    "\n",
    "labels = pd.concat([test, labels], axis=1).dropna()"
   ]
  },
  {
   "cell_type": "code",
   "execution_count": null,
   "metadata": {},
   "outputs": [],
   "source": [
    "labels"
   ]
  },
  {
   "cell_type": "code",
   "execution_count": null,
   "metadata": {},
   "outputs": [],
   "source": [
    "recompile=False\n",
    "refit=True\n",
    "vb = True\n",
    "compiled_model=\"../model.pkl\"\n",
    "compiled_fit='../fit_vb.pkl' if vb else \"../fit.pkl\"\n",
    "\n",
    "data = {\"N\": len(train.index),\n",
    "        \"x\": train,\n",
    "        \"K\": 2,\n",
    "        \"D\": len(train.columns)}\n",
    "\n",
    "if recompile:\n",
    "    sm = pystan.StanModel(file=model)\n",
    "    with open(compiled_model, 'wb') as f:\n",
    "        pickle.dump(sm, f)\n",
    "else:\n",
    "    with open(compiled_model, 'rb') as f:\n",
    "        sm = pickle.load(f)\n",
    "\n",
    "if refit:\n",
    "    if vb:\n",
    "        fit = sm.vb(data=data, algorithm='meanfield')\n",
    "    else:    \n",
    "        fit = sm.sampling(data=data, iter=5000, chains=4, thin=1)\n",
    "    with open(compiled_fit, 'wb') as f:\n",
    "        pickle.dump(fit, f)\n",
    "else:\n",
    "    with open(compiled_fit, 'rb') as f:\n",
    "        fit = pickle.load(f)"
   ]
  },
  {
   "cell_type": "code",
   "execution_count": null,
   "metadata": {},
   "outputs": [],
   "source": [
    "result = utils.pystan_vb_extract(fit)"
   ]
  },
  {
   "cell_type": "code",
   "execution_count": null,
   "metadata": {},
   "outputs": [],
   "source": [
    "c,a,f = utils.get_inference_results(result, labels)\n",
    "print(c, a, f)"
   ]
  },
  {
   "cell_type": "code",
   "execution_count": null,
   "metadata": {},
   "outputs": [],
   "source": []
  }
 ],
 "metadata": {
  "kernelspec": {
   "display_name": "Python 3",
   "language": "python",
   "name": "python3"
  },
  "language_info": {
   "codemirror_mode": {
    "name": "ipython",
    "version": 3
   },
   "file_extension": ".py",
   "mimetype": "text/x-python",
   "name": "python",
   "nbconvert_exporter": "python",
   "pygments_lexer": "ipython3",
   "version": "3.6.8"
  }
 },
 "nbformat": 4,
 "nbformat_minor": 2
}
