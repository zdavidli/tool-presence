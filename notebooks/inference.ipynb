{
 "cells": [
  {
   "cell_type": "code",
   "execution_count": null,
   "metadata": {},
   "outputs": [],
   "source": [
    "%matplotlib inline\n",
    "%load_ext autoreload\n",
    "%autoreload 2"
   ]
  },
  {
   "cell_type": "code",
   "execution_count": null,
   "metadata": {},
   "outputs": [],
   "source": [
    "import matplotlib\n",
    "import matplotlib.pyplot as plt\n",
    "import numpy as np\n",
    "import pandas as pd\n",
    "import pystan\n",
    "import pickle\n",
    "import seaborn as sns\n",
    "\n",
    "import os\n",
    "import sys\n",
    "\n",
    "module_path = os.path.abspath(os.path.join('/users/dli44/tool-presence'))\n",
    "if module_path not in sys.path:\n",
    "    sys.path.append(module_path)\n",
    "\n",
    "from src import constants as c\n",
    "from src import utils\n",
    "from src import visualization as v\n",
    "from src import model as m"
   ]
  },
  {
   "cell_type": "code",
   "execution_count": null,
   "metadata": {},
   "outputs": [],
   "source": [
    "np.random.seed(101)\n",
    "matplotlib.rc('text', usetex=True)\n",
    "matplotlib.rcParams['figure.dpi'] = 200"
   ]
  },
  {
   "cell_type": "code",
   "execution_count": null,
   "metadata": {},
   "outputs": [],
   "source": [
    "train_data_file = \"../mmd/csv/beta_10.0_zdim_80_train.csv\"\n",
    "test_data_file = \"../mmd/csv/beta_10.0_zdim_80_test.csv\"\n",
    "test_labels_file = '../data/youtube_data/val/labels.csv'\n",
    "\n",
    "train = pd.read_csv(train_data_file, index_col=0)\n",
    "test = pd.read_csv(test_data_file, index_col=0)\n",
    "test_labels = pd.read_csv(test_labels_file, index_col=0)\n",
    "test_labels = pd.concat([test, test_labels], axis=1).dropna()"
   ]
  },
  {
   "cell_type": "code",
   "execution_count": null,
   "metadata": {},
   "outputs": [],
   "source": [
    "recompile=False\n",
    "refit=True\n",
    "vb = True\n",
    "model='../model.stan'\n",
    "compiled_model=\"../model.pkl\"\n",
    "compiled_fit='../fit_vb.pkl' if vb else \"../fit.pkl\"\n",
    "\n",
    "data = {\"N\": len(train.index),\n",
    "        \"N2\": len(test_labels),\n",
    "        \"x\": train,\n",
    "        \"x_test\": test_labels.values[:, :10],\n",
    "        \"K\": 2,\n",
    "        \"D\": len(train.columns)}"
   ]
  },
  {
   "cell_type": "code",
   "execution_count": null,
   "metadata": {},
   "outputs": [],
   "source": [
    "if recompile:\n",
    "    sm = pystan.StanModel(file=model)\n",
    "    with open(compiled_model, 'wb') as f:\n",
    "        pickle.dump(sm, f)\n",
    "else:\n",
    "    with open(compiled_model, 'rb') as f:\n",
    "        sm = pickle.load(f)"
   ]
  },
  {
   "cell_type": "code",
   "execution_count": null,
   "metadata": {},
   "outputs": [],
   "source": [
    "if refit:\n",
    "    if vb:\n",
    "        fit = sm.vb(data=data, algorithm='meanfield')\n",
    "    else:    \n",
    "        fit = sm.sampling(data=data, iter=5000, chains=4, thin=1)\n",
    "    with open(compiled_fit, 'wb') as f:\n",
    "        pickle.dump(fit, f)\n",
    "else:\n",
    "    with open(compiled_fit, 'rb') as f:\n",
    "        fit = pickle.load(f)"
   ]
  },
  {
   "cell_type": "code",
   "execution_count": null,
   "metadata": {},
   "outputs": [],
   "source": [
    "# result = fit.extract()\n",
    "result = utils.pystan_vb_extract(fit)"
   ]
  },
  {
   "cell_type": "code",
   "execution_count": null,
   "metadata": {},
   "outputs": [],
   "source": [
    "# len(np.log(result['theta'][-1]))\n",
    "test_labels"
   ]
  },
  {
   "cell_type": "code",
   "execution_count": null,
   "metadata": {},
   "outputs": [],
   "source": [
    "c,a,f = utils.get_inference_results(result, test_labels)\n",
    "print(c, a, f)"
   ]
  },
  {
   "cell_type": "code",
   "execution_count": null,
   "metadata": {},
   "outputs": [],
   "source": [
    "sns.heatmap(c.astype('float') / c.sum(axis=1)[:, np.newaxis], \n",
    "            cmap=sns.color_palette(\"Blues\"),\n",
    "            xticklabels=['Cluster 1', 'Cluster 2'], \n",
    "            yticklabels=['No Tool', 'Tool'], \n",
    "            annot=c, annot_kws={\"size\": 28}, \n",
    "            fmt='g',cbar=False)\n",
    "\n",
    "plt.ylabel(\"Predictions\")\n",
    "plt.xlabel(\"Actual\")\n",
    "# plt.title('MMD-VAE Confusion Matrix\\n' + r\"$\\lambda=1, z=10$\")\n",
    "# plt.title(r\"$\\beta$\" \"-VAE Confusion Matrix\\n\" + \n",
    "#           r\"$\\beta=10, z=10$\");\n",
    "# plt.savefig('beta_vae_beta10_zdim_10_confusion.png')"
   ]
  },
  {
   "cell_type": "code",
   "execution_count": null,
   "metadata": {},
   "outputs": [],
   "source": [
    "fig = plt.figure()\n",
    "plt.hist(result['mu'].flatten(), bins=50);\n",
    "# plt.title(\"Posterior distribution\\n\"+\n",
    "# #           r\"MMD-VAE $\\lambda=1, z=10$\")\n",
    "#           r\"$\\beta$-VAE $\\beta=10, z=10$\")\n",
    "plt.ylabel('Frequency')\n",
    "plt.xlabel(r'$\\mu$')\n",
    "# plt.savefig('vb_beta10_zdim_10.png')\n",
    "# plt.savefig('vb_mmd_lambda1_zdim_10.png')"
   ]
  },
  {
   "cell_type": "code",
   "execution_count": null,
   "metadata": {},
   "outputs": [],
   "source": [
    "# Accuracy?????\n",
    "\n",
    "#elbo beta = 1: 60.9%\n",
    "#mmd lambda=1: 68%\n",
    "#mmd lambda=10: 58%"
   ]
  },
  {
   "cell_type": "code",
   "execution_count": null,
   "metadata": {},
   "outputs": [],
   "source": [
    "c = np.array([[27,71],[50,159]])"
   ]
  },
  {
   "cell_type": "code",
   "execution_count": null,
   "metadata": {},
   "outputs": [],
   "source": []
  }
 ],
 "metadata": {
  "kernelspec": {
   "display_name": "Python 3",
   "language": "python",
   "name": "python3"
  },
  "language_info": {
   "codemirror_mode": {
    "name": "ipython",
    "version": 3
   },
   "file_extension": ".py",
   "mimetype": "text/x-python",
   "name": "python",
   "nbconvert_exporter": "python",
   "pygments_lexer": "ipython3",
   "version": "3.6.8"
  }
 },
 "nbformat": 4,
 "nbformat_minor": 2
}
