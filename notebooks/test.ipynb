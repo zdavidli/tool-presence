{
 "cells": [
  {
   "cell_type": "code",
   "execution_count": null,
   "metadata": {},
   "outputs": [],
   "source": [
    "%matplotlib inline\n",
    "%load_ext autoreload\n",
    "%autoreload 2"
   ]
  },
  {
   "cell_type": "code",
   "execution_count": null,
   "metadata": {},
   "outputs": [],
   "source": [
    "import argparse\n",
    "import os\n",
    "import sys\n",
    "import numpy as np\n",
    "import torch\n",
    "import torch.optim as optim\n",
    "from matplotlib import pyplot as plt\n",
    "import pandas as pd\n",
    "from tqdm import tqdm_notebook, tnrange"
   ]
  },
  {
   "cell_type": "code",
   "execution_count": null,
   "metadata": {},
   "outputs": [],
   "source": [
    "module_path = os.path.abspath(os.path.join('/users/dli44/tool-presence'))\n",
    "if module_path not in sys.path:\n",
    "    sys.path.append(module_path)\n",
    "\n",
    "from src import constants as c\n",
    "from src import utils\n",
    "from src import visualization as v\n",
    "from src import model as m"
   ]
  },
  {
   "cell_type": "code",
   "execution_count": null,
   "metadata": {},
   "outputs": [],
   "source": [
    "parser = utils.setup_argparse()\n",
    "args = parser.parse_args(args=['--root=/users/dli44/tool-presence/',\n",
    "                               '--data-dir=data/larynx_data/',\n",
    "                               '--image-size=64',\n",
    "                               '--loss-function=mmd',\n",
    "                               '--z-dim=10',\n",
    "                               '--betas=1'\n",
    "                              ])\n",
    "\n",
    "datasets, dataloaders = utils.setup_data(args)\n",
    "args.loss_function = utils.select_loss_function(args.loss_function)\n",
    "args.z_dim = [int(x) for x in args.z_dim.split(',')]\n",
    "args.betas = [float(x) for x in args.betas.split(',')]"
   ]
  },
  {
   "cell_type": "code",
   "execution_count": null,
   "metadata": {},
   "outputs": [],
   "source": [
    "model = m.VAE(image_channels=args.image_channels,\n",
    "              image_size=args.image_size,\n",
    "              h_dim1=1024,\n",
    "              h_dim2=128,\n",
    "              zdim=args.z_dim[0]).to(c.device)"
   ]
  },
  {
   "cell_type": "code",
   "execution_count": null,
   "metadata": {},
   "outputs": [],
   "source": [
    "optimizer = optim.Adam(model.parameters(), lr=args.learning_rate)\n",
    "\n",
    "tbar = tnrange(args.epochs)\n",
    "for epoch in tbar:\n",
    "    \"\"\"\n",
    "    Training\n",
    "    \"\"\"\n",
    "    model.train()\n",
    "    train_loss, kl, rl = 0, 0, 0\n",
    "    t2 = tqdm_notebook(dataloaders['train'])\n",
    "    for batch_idx, (data, _) in enumerate(t2):\n",
    "        data = data.to(c.device)\n",
    "        optimizer.zero_grad()\n",
    "        recon_batch, z, mu, logvar = model(data)\n",
    "\n",
    "        loss_params = {'recon': recon_batch,\n",
    "                       'x': data,\n",
    "                       'z': z,\n",
    "                       'mu': mu,\n",
    "                       'logvar': logvar,\n",
    "                       'batch_size': args.batch_size,\n",
    "                       'input_size': args.image_size,\n",
    "                       'zdim': args.z_dim[0],\n",
    "                       'beta': args.betas[0]}\n",
    "\n",
    "        loss, r, k = args.loss_function(**loss_params)\n",
    "        loss.backward()\n",
    "\n",
    "        train_loss += loss.item()\n",
    "        kl += k.item()\n",
    "        rl += r.item()\n",
    "\n",
    "        optimizer.step()\n",
    "\n",
    "        t2.set_postfix(\n",
    "            {\"Reconstruction Loss\": r.item(),\n",
    "             \"KL Divergence\": k.item()})\n",
    "\n",
    "    losses['kl'].append(kl)\n",
    "    losses['rl'].append(rl)\n",
    "\n",
    "    tbar.set_postfix({\"KL Divergence\":\n",
    "                      kl/len(dataloaders['train'].dataset),\n",
    "                      \"Reconstruction Loss\":\n",
    "                      rl/len(dataloaders['train'].dataset)})"
   ]
  },
  {
   "cell_type": "code",
   "execution_count": null,
   "metadata": {},
   "outputs": [],
   "source": []
  }
 ],
 "metadata": {
  "kernelspec": {
   "display_name": "Python 3",
   "language": "python",
   "name": "python3"
  },
  "language_info": {
   "codemirror_mode": {
    "name": "ipython",
    "version": 3
   },
   "file_extension": ".py",
   "mimetype": "text/x-python",
   "name": "python",
   "nbconvert_exporter": "python",
   "pygments_lexer": "ipython3",
   "version": "3.6.8"
  }
 },
 "nbformat": 4,
 "nbformat_minor": 2
}
