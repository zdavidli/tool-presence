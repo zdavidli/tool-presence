{
 "cells": [
  {
   "cell_type": "code",
   "execution_count": null,
   "metadata": {},
   "outputs": [],
   "source": [
    "%matplotlib inline\n",
    "%load_ext autoreload\n",
    "%autoreload 2"
   ]
  },
  {
   "cell_type": "code",
   "execution_count": null,
   "metadata": {},
   "outputs": [],
   "source": [
    "import argparse\n",
    "import os\n",
    "import sys\n",
    "import numpy as np\n",
    "import torch\n",
    "from matplotlib import pyplot as plt\n",
    "import pandas as pd\n",
    "\n",
    "module_path = os.path.abspath(os.path.join('/users/dli44/tool-presence'))\n",
    "if module_path not in sys.path:\n",
    "    sys.path.append(module_path)\n",
    "\n",
    "from src import constants as c\n",
    "from src import utils\n",
    "from src import visualization as v\n",
    "from src import model as m\n",
    "from src import gmm"
   ]
  },
  {
   "cell_type": "code",
   "execution_count": null,
   "metadata": {},
   "outputs": [],
   "source": [
    "import matplotlib\n",
    "matplotlib.rc('text', usetex=True)\n",
    "matplotlib.rcParams['figure.dpi'] = 200"
   ]
  },
  {
   "cell_type": "code",
   "execution_count": null,
   "metadata": {},
   "outputs": [],
   "source": [
    "# set up argparse\n",
    "parser = argparse.ArgumentParser(\n",
    "    formatter_class=argparse.ArgumentDefaultsHelpFormatter)\n",
    "\n",
    "parser.add_argument('--root', type=str,\n",
    "                    default=os.path.abspath('.'),\n",
    "                    help='Root directory of tool-presence')\n",
    "parser.add_argument('--train', type=str, default='')\n",
    "parser.add_argument('--test', type=str, default='')\n",
    "parser.add_argument('--model-path', type=str, default='')\n",
    "parser.add_argument('--fit-path', type=str, default='')\n",
    "parser.add_argument('-v', '--verbose', help=\"increase output verbosity\",\n",
    "                    action=\"store_true\")\n",
    "args = parser.parse_args([]);\n",
    "args.augmentation=False\n",
    "args.image_size=64\n",
    "args.image_channels=3\n",
    "args.batch_size=32\n",
    "args.data_dir=\"../data/youtube_data/\""
   ]
  },
  {
   "cell_type": "code",
   "execution_count": null,
   "metadata": {},
   "outputs": [],
   "source": [
    "datasets, _ = utils.setup_data(args)"
   ]
  },
  {
   "cell_type": "code",
   "execution_count": null,
   "metadata": {},
   "outputs": [],
   "source": [
    "# i = 0\n",
    "a = [datasets['train'][i][0].numpy().reshape(1, -1) for i in range(len(datasets['train']))]"
   ]
  },
  {
   "cell_type": "code",
   "execution_count": null,
   "metadata": {},
   "outputs": [],
   "source": [
    "a = np.array(a).reshape(len(datasets['train']), -1)"
   ]
  },
  {
   "cell_type": "code",
   "execution_count": null,
   "metadata": {},
   "outputs": [],
   "source": [
    "from sklearn import decomposition"
   ]
  },
  {
   "cell_type": "code",
   "execution_count": null,
   "metadata": {},
   "outputs": [],
   "source": [
    "from tqdm import tnrange\n",
    "\n",
    "explained_variance = []\n",
    "\n",
    "for n in tnrange(2, 1000):\n",
    "    pca = decomposition.PCA(n)\n",
    "    projected = pca.fit_transform(a)\n",
    "    explained_variance.append(sum(pca.explained_variance_ratio_))"
   ]
  },
  {
   "cell_type": "code",
   "execution_count": null,
   "metadata": {},
   "outputs": [],
   "source": [
    "plt.plot(range(2, 100), explained_variance[:98])\n",
    "plt.ylabel(\"Explained variance ratio\")\n",
    "plt.xlabel(\"Number of components\")\n",
    "plt.savefig(\"pca_plot.png\", bbox_inches='tight')"
   ]
  },
  {
   "cell_type": "code",
   "execution_count": null,
   "metadata": {},
   "outputs": [],
   "source": [
    "print(len(explained_variance))"
   ]
  },
  {
   "cell_type": "code",
   "execution_count": null,
   "metadata": {},
   "outputs": [],
   "source": [
    "print(a.shape)\n",
    "print(projected.shape)\n",
    "print('Explained variation per principal component: {} {}'.format(sum(pca.explained_variance_ratio_),pca.explained_variance_ratio_))"
   ]
  },
  {
   "cell_type": "code",
   "execution_count": null,
   "metadata": {},
   "outputs": [],
   "source": [
    "np.random.seed(100)\n",
    "indices = np.random.randint(0, len(datasets['train']), 10)"
   ]
  },
  {
   "cell_type": "code",
   "execution_count": null,
   "metadata": {},
   "outputs": [],
   "source": [
    "a_post_pca = pca.inverse_transform(projected)"
   ]
  },
  {
   "cell_type": "code",
   "execution_count": null,
   "metadata": {},
   "outputs": [],
   "source": [
    "sample = a[indices].reshape(10, 3, 64, 64).transpose(0,2,3,1)\n",
    "test_sample = a_post_pca[indices].reshape(10,3,64,64).transpose(0,2,3,1)"
   ]
  },
  {
   "cell_type": "code",
   "execution_count": null,
   "metadata": {},
   "outputs": [],
   "source": [
    "plt.figure()\n",
    "plt.imshow(np.vstack([np.hstack(sample), np.hstack(test_sample)]))\n",
    "plt.axis(\"off\")\n",
    "plt.title('50-dimensional PCA reconstructions')\n",
    "plt.savefig(\"PCA1.png\", bbox_inches='tight')"
   ]
  },
  {
   "cell_type": "code",
   "execution_count": null,
   "metadata": {},
   "outputs": [],
   "source": []
  }
 ],
 "metadata": {
  "kernelspec": {
   "display_name": "Python 3",
   "language": "python",
   "name": "python3"
  }
 },
 "nbformat": 4,
 "nbformat_minor": 2
}
