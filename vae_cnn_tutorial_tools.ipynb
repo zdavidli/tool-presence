{
 "cells": [
  {
   "cell_type": "markdown",
   "metadata": {},
   "source": [
    "# Tutorial \n",
    "\n",
    "Based off: https://github.com/sksq96/pytorch-vae/blob/master/vae-cnn.ipynb\n",
    "\n",
    "Data used: Sinus Endoscopy Video from https://www.youtube.com/watch?v=6niL7Poc_qQ\n",
    "\n",
    "Simplifying Decisions:\n",
    "\n",
    "* Downscale image to 64x64 with center crop (not perfect)"
   ]
  },
  {
   "cell_type": "code",
   "execution_count": 1,
   "metadata": {},
   "outputs": [],
   "source": [
    "import torch\n",
    "import torch.nn as nn\n",
    "import torch.nn.functional as F\n",
    "from torch.autograd import Variable\n",
    "from torch.utils.data import Dataset, DataLoader\n",
    "\n",
    "import torchvision\n",
    "from torchvision import datasets\n",
    "from torchvision import transforms\n",
    "from torchvision.utils import save_image\n",
    "\n",
    "from matplotlib import pyplot as plt\n",
    "import numpy as np\n",
    "import os\n",
    "from skimage import io\n",
    "\n",
    "%load_ext autoreload\n",
    "%autoreload 2"
   ]
  },
  {
   "cell_type": "code",
   "execution_count": 2,
   "metadata": {},
   "outputs": [
    {
     "data": {
      "text/plain": [
       "device(type='cpu')"
      ]
     },
     "execution_count": 2,
     "metadata": {},
     "output_type": "execute_result"
    }
   ],
   "source": [
    "# Device configuration\n",
    "device = torch.device('cuda' if torch.cuda.is_available() else 'cpu')\n",
    "device"
   ]
  },
  {
   "cell_type": "code",
   "execution_count": 3,
   "metadata": {},
   "outputs": [],
   "source": [
    "#Variables\n",
    "image_size=64\n",
    "batch_size=64\n",
    "epochs = 50\n",
    "image_channels=3"
   ]
  },
  {
   "cell_type": "code",
   "execution_count": 4,
   "metadata": {},
   "outputs": [],
   "source": [
    "dataset = torchvision.datasets.ImageFolder('data/surgical_video_frames/',\n",
    "                                           transform=transforms.Compose([\n",
    "                                                        transforms.Resize(image_size),\n",
    "                                                        transforms.CenterCrop(image_size),\n",
    "                                                        transforms.ToTensor(),\n",
    "                                           ]))\n",
    "\n",
    "data_loader = DataLoader(dataset=dataset,\n",
    "                         batch_size=batch_size, \n",
    "                         shuffle=False)"
   ]
  },
  {
   "cell_type": "code",
   "execution_count": 5,
   "metadata": {},
   "outputs": [],
   "source": [
    "# Plot the image here using matplotlib.\n",
    "def plot_image(tensor):\n",
    "    plt.figure()\n",
    "    # imshow needs a numpy array with the channel dimension\n",
    "    # as the the last dimension so we have to transpose things.\n",
    "    plt.imshow(tensor.numpy().transpose(1, 2, 0))\n",
    "    plt.show()"
   ]
  },
  {
   "cell_type": "code",
   "execution_count": 6,
   "metadata": {},
   "outputs": [
    {
     "data": {
      "image/png": "[encoded data removed]",
      "text/plain": [
       "<Figure size 432x288 with 1 Axes>"
      ]
     },
     "metadata": {},
     "output_type": "display_data"
    }
   ],
   "source": [
    "# Fixed input for debugging\n",
    "fixed_x, _ = dataset[0]\n",
    "plot_image(fixed_x)"
   ]
  },
  {
   "cell_type": "code",
   "execution_count": 7,
   "metadata": {},
   "outputs": [],
   "source": [
    "class Flatten(nn.Module):\n",
    "    def forward(self, input):\n",
    "        return input.view(input.size(0), -1)"
   ]
  },
  {
   "cell_type": "code",
   "execution_count": 8,
   "metadata": {},
   "outputs": [],
   "source": [
    "class UnFlatten(nn.Module):\n",
    "    def forward(self, input, size=1024):\n",
    "        return input.view(input.size(0), size, 1, 1)"
   ]
  },
  {
   "cell_type": "code",
   "execution_count": 9,
   "metadata": {},
   "outputs": [],
   "source": [
    "class VAE(nn.Module):\n",
    "    def __init__(self, image_channels=3, h_dim=32*32, z_dim=32):\n",
    "        super(VAE, self).__init__()\n",
    "        self.encoder = nn.Sequential(\n",
    "            nn.Conv2d(image_channels, 32, kernel_size=4, stride=2),\n",
    "            nn.ReLU(),\n",
    "            nn.Conv2d(32, 64, kernel_size=4, stride=2),\n",
    "            nn.ReLU(),\n",
    "            nn.Conv2d(64, 128, kernel_size=4, stride=2),\n",
    "            nn.ReLU(),\n",
    "            nn.Conv2d(128, 256, kernel_size=4, stride=2),\n",
    "            nn.ReLU(),\n",
    "            Flatten()\n",
    "        )\n",
    "        \n",
    "        self.fc1 = nn.Linear(h_dim, z_dim)\n",
    "        self.fc2 = nn.Linear(h_dim, z_dim)\n",
    "        self.fc3 = nn.Linear(z_dim, h_dim)\n",
    "        \n",
    "        self.decoder = nn.Sequential(\n",
    "            UnFlatten(),\n",
    "            nn.ConvTranspose2d(h_dim, 128, kernel_size=5, stride=2),\n",
    "            nn.ReLU(),\n",
    "            nn.ConvTranspose2d(128, 64, kernel_size=5, stride=2),\n",
    "            nn.ReLU(),\n",
    "            nn.ConvTranspose2d(64, 32, kernel_size=6, stride=2),\n",
    "            nn.ReLU(),\n",
    "            nn.ConvTranspose2d(32, image_channels, kernel_size=6, stride=2),\n",
    "            nn.Sigmoid(),\n",
    "        )\n",
    "        \n",
    "    def reparameterize(self, mu, logvar):\n",
    "        std = logvar.mul(0.5).exp_()\n",
    "        # return torch.normal(mu, std)\n",
    "        esp = torch.randn(*mu.size())\n",
    "        z = mu + std * esp\n",
    "        return z\n",
    "    \n",
    "    def bottleneck(self, h):\n",
    "        mu, logvar = self.fc1(h), self.fc2(h)\n",
    "        z = self.reparameterize(mu, logvar)\n",
    "        return z, mu, logvar\n",
    "\n",
    "    def encode(self, x):\n",
    "        h = self.encoder(x)\n",
    "        z, mu, logvar = self.bottleneck(h)\n",
    "        return z, mu, logvar\n",
    "\n",
    "    def decode(self, z):\n",
    "        z = self.fc3(z)\n",
    "        z = self.decoder(z)\n",
    "        return z\n",
    "\n",
    "    def forward(self, x):\n",
    "        z, mu, logvar = self.encode(x)\n",
    "        z = self.decode(z)\n",
    "        return z, mu, logvar"
   ]
  },
  {
   "cell_type": "code",
   "execution_count": 10,
   "metadata": {},
   "outputs": [],
   "source": [
    "image_channels = fixed_x.size(0)"
   ]
  },
  {
   "cell_type": "code",
   "execution_count": 11,
   "metadata": {},
   "outputs": [],
   "source": [
    "model = VAE(image_channels=3).to(device)"
   ]
  },
  {
   "cell_type": "code",
   "execution_count": 12,
   "metadata": {},
   "outputs": [
    {
     "data": {
      "text/plain": [
       "VAE(\n",
       "  (encoder): Sequential(\n",
       "    (0): Conv2d(3, 32, kernel_size=(4, 4), stride=(2, 2))\n",
       "    (1): ReLU()\n",
       "    (2): Conv2d(32, 64, kernel_size=(4, 4), stride=(2, 2))\n",
       "    (3): ReLU()\n",
       "    (4): Conv2d(64, 128, kernel_size=(4, 4), stride=(2, 2))\n",
       "    (5): ReLU()\n",
       "    (6): Conv2d(128, 256, kernel_size=(4, 4), stride=(2, 2))\n",
       "    (7): ReLU()\n",
       "    (8): Flatten()\n",
       "  )\n",
       "  (fc1): Linear(in_features=1024, out_features=32, bias=True)\n",
       "  (fc2): Linear(in_features=1024, out_features=32, bias=True)\n",
       "  (fc3): Linear(in_features=32, out_features=1024, bias=True)\n",
       "  (decoder): Sequential(\n",
       "    (0): UnFlatten()\n",
       "    (1): ConvTranspose2d(1024, 128, kernel_size=(5, 5), stride=(2, 2))\n",
       "    (2): ReLU()\n",
       "    (3): ConvTranspose2d(128, 64, kernel_size=(5, 5), stride=(2, 2))\n",
       "    (4): ReLU()\n",
       "    (5): ConvTranspose2d(64, 32, kernel_size=(6, 6), stride=(2, 2))\n",
       "    (6): ReLU()\n",
       "    (7): ConvTranspose2d(32, 3, kernel_size=(6, 6), stride=(2, 2))\n",
       "    (8): Sigmoid()\n",
       "  )\n",
       ")"
      ]
     },
     "execution_count": 12,
     "metadata": {},
     "output_type": "execute_result"
    }
   ],
   "source": [
    "model"
   ]
  },
  {
   "cell_type": "code",
   "execution_count": 13,
   "metadata": {},
   "outputs": [],
   "source": [
    "optimizer = torch.optim.Adam(model.parameters(), lr=1e-3)"
   ]
  },
  {
   "cell_type": "code",
   "execution_count": 14,
   "metadata": {},
   "outputs": [],
   "source": [
    "def loss_fn(recon_x, x, mu, logvar):\n",
    "    BCE = F.binary_cross_entropy(recon_x, x, reduction='sum')\n",
    "\n",
    "    # see Appendix B from VAE paper:\n",
    "    # Kingma and Welling. Auto-Encoding Variational Bayes. ICLR, 2014\n",
    "    # 0.5 * sum(1 + log(sigma^2) - mu^2 - sigma^2)\n",
    "    KLD = -0.5 * torch.mean(1 + logvar - mu.pow(2) - logvar.exp())\n",
    "\n",
    "    return BCE + KLD, BCE, KLD"
   ]
  },
  {
   "cell_type": "code",
   "execution_count": null,
   "metadata": {},
   "outputs": [
    {
     "name": "stdout",
     "output_type": "stream",
     "text": [
      "Epoch[1/50] Loss: 8505.449 8505.449 0.000\n",
      "Epoch[1/50] Loss: 8500.958 8500.958 0.000\n",
      "Epoch[1/50] Loss: 8473.075 8473.075 0.000\n",
      "Epoch[1/50] Loss: 8288.540 8288.537 0.003\n",
      "Epoch[1/50] Loss: 8757.513 8757.472 0.041\n",
      "Epoch[1/50] Loss: 8226.818 8226.811 0.007\n",
      "Epoch[1/50] Loss: 8215.349 8215.347 0.002\n",
      "Epoch[1/50] Loss: 8322.242 8322.241 0.001\n",
      "Epoch[1/50] Loss: 8523.176 8523.175 0.001\n",
      "Epoch[1/50] Loss: 8651.021 8651.020 0.001\n",
      "Epoch[1/50] Loss: 8371.716 8371.716 0.000\n",
      "Epoch[1/50] Loss: 8243.171 8243.171 0.000\n",
      "Epoch[1/50] Loss: 8307.959 8307.959 0.000\n",
      "Epoch[1/50] Loss: 8314.650 8314.650 0.000\n",
      "Epoch[1/50] Loss: 8146.061 8146.061 0.000\n",
      "Epoch[1/50] Loss: 8111.014 8111.014 0.000\n",
      "Epoch[1/50] Loss: 8139.322 8139.322 0.000\n",
      "Epoch[1/50] Loss: 8331.185 8331.185 0.000\n",
      "Epoch[1/50] Loss: 8189.457 8189.457 0.000\n",
      "Epoch[1/50] Loss: 8673.186 8673.186 0.000\n",
      "Epoch[1/50] Loss: 8199.452 8199.452 0.000\n",
      "Epoch[1/50] Loss: 8157.106 8157.106 0.000\n",
      "Epoch[1/50] Loss: 8146.084 8146.084 0.000\n",
      "Epoch[1/50] Loss: 8149.497 8149.497 0.000\n",
      "Epoch[1/50] Loss: 5063.442 5063.442 0.000\n",
      "Epoch[2/50] Loss: 8223.296 8223.296 0.000\n",
      "Epoch[2/50] Loss: 7977.474 7977.474 0.000\n",
      "Epoch[2/50] Loss: 8056.867 8056.867 0.000\n",
      "Epoch[2/50] Loss: 7681.372 7681.372 0.000\n",
      "Epoch[2/50] Loss: 8329.551 8329.551 0.000\n",
      "Epoch[2/50] Loss: 8323.936 8323.936 0.000\n",
      "Epoch[2/50] Loss: 7877.996 7877.996 0.000\n",
      "Epoch[2/50] Loss: 8441.329 8441.329 0.000\n",
      "Epoch[2/50] Loss: 8958.792 8958.792 0.000\n",
      "Epoch[2/50] Loss: 8843.925 8843.925 0.000\n",
      "Epoch[2/50] Loss: 8438.758 8438.758 0.000\n",
      "Epoch[2/50] Loss: 8246.636 8246.636 0.000\n",
      "Epoch[2/50] Loss: 8410.183 8410.183 0.000\n",
      "Epoch[2/50] Loss: 8404.359 8404.359 0.000\n",
      "Epoch[2/50] Loss: 8378.021 8378.021 0.000\n",
      "Epoch[2/50] Loss: 8373.803 8373.803 0.000\n",
      "Epoch[2/50] Loss: 8400.273 8400.273 0.000\n",
      "Epoch[2/50] Loss: 8395.609 8395.609 0.000\n",
      "Epoch[2/50] Loss: 8306.700 8306.700 0.000\n",
      "Epoch[2/50] Loss: 8468.426 8468.426 0.000\n",
      "Epoch[2/50] Loss: 8195.751 8195.751 0.000\n",
      "Epoch[2/50] Loss: 8152.689 8152.689 0.000\n",
      "Epoch[2/50] Loss: 8059.548 8059.548 0.000\n",
      "Epoch[2/50] Loss: 8071.514 8071.514 0.000\n",
      "Epoch[2/50] Loss: 4990.075 4990.075 0.000\n",
      "Epoch[3/50] Loss: 8098.108 8098.108 0.000\n",
      "Epoch[3/50] Loss: 7667.945 7667.945 0.000\n",
      "Epoch[3/50] Loss: 7963.420 7963.420 0.000\n",
      "Epoch[3/50] Loss: 7493.034 7493.034 0.000\n",
      "Epoch[3/50] Loss: 8633.578 8633.578 0.000\n",
      "Epoch[3/50] Loss: 8500.295 8500.295 0.000\n",
      "Epoch[3/50] Loss: 7919.502 7919.502 0.000\n",
      "Epoch[3/50] Loss: 8122.832 8122.832 0.000\n",
      "Epoch[3/50] Loss: 8432.282 8432.282 0.000\n",
      "Epoch[3/50] Loss: 8547.585 8547.585 0.000\n",
      "Epoch[3/50] Loss: 8275.659 8275.659 0.000\n",
      "Epoch[3/50] Loss: 8076.429 8076.429 0.000\n"
     ]
    }
   ],
   "source": [
    "for epoch in range(epochs):\n",
    "    for idx, (images, _) in enumerate(data_loader):\n",
    "        recon_images, mu, logvar = model(images)\n",
    "        loss, bce, kld = loss_fn(recon_images, images, mu, logvar)\n",
    "        optimizer.zero_grad()\n",
    "        loss.backward()\n",
    "        optimizer.step()\n",
    "\n",
    "        to_print = \"Epoch[{}/{}] Loss: {:.3f} {:.3f} {:.3f}\".format(epoch+1, \n",
    "                                                                    epochs, \n",
    "                                                                    loss.item()/batch_size, \n",
    "                                                                    bce.item()/batch_size, \n",
    "                                                                    kld.item()/batch_size)\n",
    "        print(to_print)\n",
    "        \n",
    "torch.save(model.state_dict(), 'vae.torch')"
   ]
  },
  {
   "cell_type": "code",
   "execution_count": null,
   "metadata": {},
   "outputs": [],
   "source": [
    "fixed_x = dataset[np.random.randint(1, 100)][0].unsqueeze(0)\n",
    "fixed_x.size()"
   ]
  },
  {
   "cell_type": "code",
   "execution_count": null,
   "metadata": {
    "scrolled": true
   },
   "outputs": [],
   "source": [
    "recon_x = model(fixed_x)[0].squeeze()\n",
    "recon_x.size()"
   ]
  },
  {
   "cell_type": "code",
   "execution_count": null,
   "metadata": {},
   "outputs": [],
   "source": [
    "compare = torch.cat([fixed_x.squeeze(), recon_x], dim=2)\n",
    "compare.size()"
   ]
  },
  {
   "cell_type": "code",
   "execution_count": null,
   "metadata": {},
   "outputs": [],
   "source": [
    "plot_image(compare.detach())"
   ]
  },
  {
   "cell_type": "code",
   "execution_count": null,
   "metadata": {},
   "outputs": [],
   "source": []
  }
 ],
 "metadata": {
  "kernelspec": {
   "display_name": "Python 3",
   "language": "python",
   "name": "python3"
  },
  "language_info": {
   "codemirror_mode": {
    "name": "ipython",
    "version": 3
   },
   "file_extension": ".py",
   "mimetype": "text/x-python",
   "name": "python",
   "nbconvert_exporter": "python",
   "pygments_lexer": "ipython3",
   "version": "3.6.5"
  }
 },
 "nbformat": 4,
 "nbformat_minor": 2
}
