{
 "cells": [
  {
   "cell_type": "code",
   "execution_count": 1,
   "metadata": {},
   "outputs": [],
   "source": [
    "# prerequisites\n",
    "import torch\n",
    "import torch.nn as nn\n",
    "import torch.nn.functional as F\n",
    "import torch.optim as optim\n",
    "from torchvision import datasets, transforms\n",
    "from torch.autograd import Variable\n",
    "from torchvision.utils import save_image\n",
    "\n",
    "bs = 100\n",
    "# MNIST Dataset\n",
    "train_dataset = datasets.MNIST(root='./mnist_data/', train=True, transform=transforms.ToTensor(), download=True)\n",
    "test_dataset = datasets.MNIST(root='./mnist_data/', train=False, transform=transforms.ToTensor(), download=False)\n",
    "\n",
    "# Data Loader (Input Pipeline)\n",
    "train_loader = torch.utils.data.DataLoader(dataset=train_dataset, batch_size=bs, shuffle=True)\n",
    "test_loader = torch.utils.data.DataLoader(dataset=test_dataset, batch_size=bs, shuffle=False)"
   ]
  },
  {
   "cell_type": "code",
   "execution_count": 2,
   "metadata": {},
   "outputs": [],
   "source": [
    "class VAE(nn.Module):\n",
    "    def __init__(self, x_dim, h_dim1, h_dim2, z_dim):\n",
    "        super(VAE, self).__init__()\n",
    "        \n",
    "        # encoder part\n",
    "        self.fc1 = nn.Linear(x_dim, h_dim1)\n",
    "        self.fc2 = nn.Linear(h_dim1, h_dim2)\n",
    "        self.fc31 = nn.Linear(h_dim2, z_dim)\n",
    "        self.fc32 = nn.Linear(h_dim2, z_dim)\n",
    "        # decoder part\n",
    "        self.fc4 = nn.Linear(z_dim, h_dim2)\n",
    "        self.fc5 = nn.Linear(h_dim2, h_dim1)\n",
    "        self.fc6 = nn.Linear(h_dim1, x_dim)\n",
    "        \n",
    "    def encoder(self, x):\n",
    "        h = F.relu(self.fc1(x))\n",
    "        h = F.relu(self.fc2(h))\n",
    "        return self.fc31(h), self.fc32(h) # mu, log_var\n",
    "    \n",
    "    def sampling(self, mu, log_var):\n",
    "        std = torch.exp(0.5*log_var)\n",
    "        eps = torch.randn_like(std)\n",
    "        return eps.mul(std).add_(mu) # return z sample\n",
    "        \n",
    "    def decoder(self, z):\n",
    "        h = F.relu(self.fc4(z))\n",
    "        h = F.relu(self.fc5(h))\n",
    "        return F.sigmoid(self.fc6(h)) \n",
    "    \n",
    "    def forward(self, x):\n",
    "        mu, log_var = self.encoder(x.view(-1, 784))\n",
    "        z = self.sampling(mu, log_var)\n",
    "        return self.decoder(z), mu, log_var\n",
    "\n",
    "# build model\n",
    "vae = VAE(x_dim=784, h_dim1= 512, h_dim2=256, z_dim=2)"
   ]
  },
  {
   "cell_type": "code",
   "execution_count": 3,
   "metadata": {},
   "outputs": [
    {
     "data": {
      "text/plain": [
       "VAE(\n",
       "  (fc1): Linear(in_features=784, out_features=512, bias=True)\n",
       "  (fc2): Linear(in_features=512, out_features=256, bias=True)\n",
       "  (fc31): Linear(in_features=256, out_features=2, bias=True)\n",
       "  (fc32): Linear(in_features=256, out_features=2, bias=True)\n",
       "  (fc4): Linear(in_features=2, out_features=256, bias=True)\n",
       "  (fc5): Linear(in_features=256, out_features=512, bias=True)\n",
       "  (fc6): Linear(in_features=512, out_features=784, bias=True)\n",
       ")"
      ]
     },
     "execution_count": 3,
     "metadata": {},
     "output_type": "execute_result"
    }
   ],
   "source": [
    "vae"
   ]
  },
  {
   "cell_type": "code",
   "execution_count": 4,
   "metadata": {},
   "outputs": [],
   "source": [
    "optimizer = optim.Adam(vae.parameters())\n",
    "# return reconstruction error + KL divergence losses\n",
    "def loss_function(recon_x, x, mu, log_var):\n",
    "    BCE = F.binary_cross_entropy(recon_x, x.view(-1, 784), reduction='sum')\n",
    "    KLD = -0.5 * torch.sum(1 + log_var - mu.pow(2) - log_var.exp())\n",
    "    return BCE + KLD"
   ]
  },
  {
   "cell_type": "code",
   "execution_count": 5,
   "metadata": {},
   "outputs": [],
   "source": [
    "def train(epoch):\n",
    "    vae.train()\n",
    "    train_loss = 0\n",
    "    for batch_idx, (data, _) in enumerate(train_loader):\n",
    "        optimizer.zero_grad()\n",
    "        \n",
    "        recon_batch, mu, log_var = vae(data)\n",
    "        loss = loss_function(recon_batch, data, mu, log_var)\n",
    "        \n",
    "        loss.backward()\n",
    "        train_loss += loss.item()\n",
    "        optimizer.step()\n",
    "        \n",
    "        if batch_idx % 100 == 0:\n",
    "            print('Train Epoch: {} [{}/{} ({:.0f}%)]\\tLoss: {:.6f}'.format(\n",
    "                epoch, batch_idx * len(data), len(train_loader.dataset),\n",
    "                100. * batch_idx / len(train_loader), loss.item() / len(data)))\n",
    "    print('====> Epoch: {} Average loss: {:.4f}'.format(epoch, train_loss / len(train_loader.dataset)))"
   ]
  },
  {
   "cell_type": "code",
   "execution_count": 6,
   "metadata": {},
   "outputs": [],
   "source": [
    "def test():\n",
    "    vae.eval()\n",
    "    test_loss= 0\n",
    "    with torch.no_grad():\n",
    "        for data, _ in test_loader:\n",
    "            recon, mu, log_var = vae(data)\n",
    "            \n",
    "            # sum up batch loss\n",
    "            test_loss += loss_function(recon, data, mu, log_var).item()\n",
    "        \n",
    "    test_loss /= len(test_loader.dataset)\n",
    "    print('====> Test set loss: {:.4f}'.format(test_loss))"
   ]
  },
  {
   "cell_type": "code",
   "execution_count": null,
   "metadata": {},
   "outputs": [
    {
     "name": "stderr",
     "output_type": "stream",
     "text": [
      "/home/davidli/anaconda3/lib/python3.6/site-packages/torch/nn/functional.py:1006: UserWarning: nn.functional.sigmoid is deprecated. Use torch.sigmoid instead.\n",
      "  warnings.warn(\"nn.functional.sigmoid is deprecated. Use torch.sigmoid instead.\")\n"
     ]
    },
    {
     "name": "stdout",
     "output_type": "stream",
     "text": [
      "Train Epoch: 1 [0/60000 (0%)]\tLoss: 545.086445\n",
      "Train Epoch: 1 [10000/60000 (17%)]\tLoss: 186.940859\n",
      "Train Epoch: 1 [20000/60000 (33%)]\tLoss: 168.267461\n",
      "Train Epoch: 1 [30000/60000 (50%)]\tLoss: 176.913496\n",
      "Train Epoch: 1 [40000/60000 (67%)]\tLoss: 164.616348\n",
      "Train Epoch: 1 [50000/60000 (83%)]\tLoss: 163.370283\n",
      "====> Epoch: 1 Average loss: 177.0832\n",
      "====> Test set loss: 161.3655\n",
      "Train Epoch: 2 [0/60000 (0%)]\tLoss: 159.128252\n",
      "Train Epoch: 2 [10000/60000 (17%)]\tLoss: 160.455254\n",
      "Train Epoch: 2 [20000/60000 (33%)]\tLoss: 154.955098\n",
      "Train Epoch: 2 [30000/60000 (50%)]\tLoss: 151.129268\n",
      "Train Epoch: 2 [40000/60000 (67%)]\tLoss: 146.737764\n",
      "Train Epoch: 2 [50000/60000 (83%)]\tLoss: 148.783213\n",
      "====> Epoch: 2 Average loss: 157.1722\n",
      "====> Test set loss: 153.9929\n",
      "Train Epoch: 3 [0/60000 (0%)]\tLoss: 147.522861\n",
      "Train Epoch: 3 [10000/60000 (17%)]\tLoss: 152.330859\n",
      "Train Epoch: 3 [20000/60000 (33%)]\tLoss: 150.994053\n",
      "Train Epoch: 3 [30000/60000 (50%)]\tLoss: 156.266865\n",
      "Train Epoch: 3 [40000/60000 (67%)]\tLoss: 156.429004\n",
      "Train Epoch: 3 [50000/60000 (83%)]\tLoss: 133.085381\n",
      "====> Epoch: 3 Average loss: 151.6448\n",
      "====> Test set loss: 150.1793\n",
      "Train Epoch: 4 [0/60000 (0%)]\tLoss: 156.126992\n",
      "Train Epoch: 4 [10000/60000 (17%)]\tLoss: 152.999492\n",
      "Train Epoch: 4 [20000/60000 (33%)]\tLoss: 152.888496\n",
      "Train Epoch: 4 [30000/60000 (50%)]\tLoss: 153.256191\n",
      "Train Epoch: 4 [40000/60000 (67%)]\tLoss: 145.402744\n",
      "Train Epoch: 4 [50000/60000 (83%)]\tLoss: 152.817588\n",
      "====> Epoch: 4 Average loss: 148.4894\n",
      "====> Test set loss: 147.5698\n",
      "Train Epoch: 5 [0/60000 (0%)]\tLoss: 142.127949\n",
      "Train Epoch: 5 [10000/60000 (17%)]\tLoss: 145.336406\n",
      "Train Epoch: 5 [20000/60000 (33%)]\tLoss: 142.269980\n",
      "Train Epoch: 5 [30000/60000 (50%)]\tLoss: 143.993867\n",
      "Train Epoch: 5 [40000/60000 (67%)]\tLoss: 146.982344\n",
      "Train Epoch: 5 [50000/60000 (83%)]\tLoss: 150.040020\n",
      "====> Epoch: 5 Average loss: 146.5542\n",
      "====> Test set loss: 146.1441\n",
      "Train Epoch: 6 [0/60000 (0%)]\tLoss: 142.483848\n",
      "Train Epoch: 6 [10000/60000 (17%)]\tLoss: 141.349658\n",
      "Train Epoch: 6 [20000/60000 (33%)]\tLoss: 147.473760\n"
     ]
    }
   ],
   "source": [
    "for epoch in range(1, 51):\n",
    "    train(epoch)\n",
    "    test()"
   ]
  },
  {
   "cell_type": "code",
   "execution_count": null,
   "metadata": {},
   "outputs": [],
   "source": []
  }
 ],
 "metadata": {
  "kernelspec": {
   "display_name": "Python 3",
   "language": "python",
   "name": "python3"
  },
  "language_info": {
   "codemirror_mode": {
    "name": "ipython",
    "version": 3
   },
   "file_extension": ".py",
   "mimetype": "text/x-python",
   "name": "python",
   "nbconvert_exporter": "python",
   "pygments_lexer": "ipython3",
   "version": "3.6.5"
  }
 },
 "nbformat": 4,
 "nbformat_minor": 2
}
